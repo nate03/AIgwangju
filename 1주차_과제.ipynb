{
  "nbformat": 4,
  "nbformat_minor": 0,
  "metadata": {
    "colab": {
      "name": "1주차 과제.ipynb",
      "provenance": [],
      "collapsed_sections": [],
      "authorship_tag": "ABX9TyPYfS3lgxpxQbUUcpkUy/qr",
      "include_colab_link": true
    },
    "kernelspec": {
      "name": "python3",
      "display_name": "Python 3"
    }
  },
  "cells": [
    {
      "cell_type": "markdown",
      "metadata": {
        "id": "view-in-github",
        "colab_type": "text"
      },
      "source": [
        "<a href=\"https://colab.research.google.com/github/nate03/AIgwangju/blob/master/1%EC%A3%BC%EC%B0%A8_%EA%B3%BC%EC%A0%9C.ipynb\" target=\"_parent\"><img src=\"https://colab.research.google.com/assets/colab-badge.svg\" alt=\"Open In Colab\"/></a>"
      ]
    },
    {
      "cell_type": "markdown",
      "metadata": {
        "id": "VliT48bM7TJC",
        "colab_type": "text"
      },
      "source": [
        "# 광주 인공지능사관학교 1주차 레포트\n",
        "현재 많은 제품과 서비스에 적용되어 있는 인공지능 중 특히 언어,음성,이미지,자율주행분야에 적용된 기술을 알아보자.\n",
        "\n"
      ]
    },
    {
      "cell_type": "markdown",
      "metadata": {
        "id": "SaGaEQ7K8l50",
        "colab_type": "text"
      },
      "source": [
        "* 음성 \n",
        " - AI와 가전제품이 만나 음성인식으로 모든 제어가 가능해졌다.\n",
        " +   **LG전자 THINK Q 스타일러시** Link: [https://jongamk.tistory.com/4949]\n",
        "* 언어 \n",
        " - 인공지능 번역 기술기반을 발표한 GOOGLE은 **GNMT** 라는 새로운 번역기술을 도입했다.\n",
        " + Link :[http://blog.naver.com/acornedu/220940040094]\n",
        "\n",
        "* 이미지\n",
        " - 수백만장의 이미지를 학습한 AI를 활용하여 명품을 감지하는 **엔트러피**가 등장했다. \n",
        " + Link[http://www.aitimes.com/news/articleView.html?idxno=123173]\n",
        "* 자율주행\n",
        " - 자율주행의 핵심! 정밀지도를 활용한 현대자동차 \n",
        " + Link[https://blog.hyundai-mnsoft.com/1209]\n"
      ]
    }
  ]
}