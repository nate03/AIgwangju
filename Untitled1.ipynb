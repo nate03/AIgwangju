{
  "nbformat": 4,
  "nbformat_minor": 0,
  "metadata": {
    "colab": {
      "name": "Untitled1.ipynb",
      "provenance": [],
      "authorship_tag": "ABX9TyMfRhNRrLHrV1McMDVe4Uhd",
      "include_colab_link": true
    },
    "kernelspec": {
      "name": "python3",
      "display_name": "Python 3"
    }
  },
  "cells": [
    {
      "cell_type": "markdown",
      "metadata": {
        "id": "view-in-github",
        "colab_type": "text"
      },
      "source": [
        "<a href=\"https://colab.research.google.com/github/nate03/AIgwangju/blob/master/Untitled1.ipynb\" target=\"_parent\"><img src=\"https://colab.research.google.com/assets/colab-badge.svg\" alt=\"Open In Colab\"/></a>"
      ]
    },
    {
      "cell_type": "markdown",
      "metadata": {
        "id": "VliT48bM7TJC",
        "colab_type": "text"
      },
      "source": [
        "광주 인공지능사관학교 1주차 레포트\n",
        "=================================="
      ]
    },
    {
      "cell_type": "markdown",
      "metadata": {
        "id": "SaGaEQ7K8l50",
        "colab_type": "text"
      },
      "source": [
        "AI와 가전제품이 만나 음성인식으로 모든 제어가 가능해졌다.\n",
        "---------------\n",
        "**LG전자 THINK Q 스타일러시**\n",
        "Link: [https://jongamk.tistory.com/4949]\n"
      ]
    }
  ]
}